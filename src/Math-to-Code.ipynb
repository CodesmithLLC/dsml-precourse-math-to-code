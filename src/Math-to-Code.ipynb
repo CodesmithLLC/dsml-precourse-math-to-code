{
 "cells": [
  {
   "cell_type": "markdown",
   "id": "fd4d564b",
   "metadata": {},
   "source": [
    "### Math to Code\n",
    "\n",
    "For each problem you'll be given a set of mathematical expressions with sample data to work with, and you'll need to implement a function that will execute the statement that you see in latex.  You can verify you did it correctly by running the cell with the unit tests afterwards.\n",
    "\n",
    "It is possible to implement these operations using external libraries but we ask that you only use regular python to accomplish this task.\n",
    "\n",
    "While completing these tasks, it's helpful to make sure you understand what data type the input is, and what data type the expression evaluates to, as these are common sources of confusion when people are trying to interpret these statements.\n",
    "\n",
    "One purpose of this exercise is to familiarize ourselves with different mathematical expressions which might be unfamiliar to you.\n",
    "\n",
    "As a reference, here's a useful list to find out what something refers to: https://byjus.com/maths/math-symbols/"
   ]
  },
  {
   "cell_type": "markdown",
   "id": "8cf9ea82",
   "metadata": {},
   "source": [
    "**1).** Please implement the following expression:\n",
    "\n",
    "$$ \\sum_{i=1}^{n} x_i $$"
   ]
  },
  {
   "cell_type": "code",
   "execution_count": null,
   "id": "5cb4fa5e",
   "metadata": {},
   "outputs": [],
   "source": [
    "# sample variable for you to use\n",
    "x = [4, 6, 8, 10, 12]\n",
    "\n",
    "# function for you to complete\n",
    "def calc_x(x_vec: list) -> int:\n",
    "    assert type(x_vec) == list, \"Input to function should be a list\"\n",
    "    \n",
    "    # calculate this value\n",
    "    ans = None\n",
    "    \n",
    "    # YOUR CODE HERE\n",
    "    return ans"
   ]
  },
  {
   "cell_type": "code",
   "execution_count": null,
   "id": "50781692",
   "metadata": {
    "deletable": false,
    "editable": false
   },
   "outputs": [],
   "source": [
    "# test cases\n",
    "x_test = [4, 6, 8, 10, 12]\n",
    "\n",
    "assert calc_x(x_test) == 40, \"Function did not return the correct value\"\n",
    "assert calc_x([0]*10) == 0, \"Function did not return the correct value\"\n",
    "\n",
    "print(\"passed!\")"
   ]
  },
  {
   "cell_type": "markdown",
   "id": "5ede21b8",
   "metadata": {},
   "source": [
    "**2).** Please implement the following expression:\n",
    "\n",
    "$$ \\sum_{i=1}^{n}x_i - y_i $$"
   ]
  },
  {
   "cell_type": "code",
   "execution_count": null,
   "id": "1c11fe0c",
   "metadata": {},
   "outputs": [],
   "source": [
    "# sample variable for you to use\n",
    "x = [4, 6, 8, 10, 12]\n",
    "y = [2, 4, 6, 8, 10]\n",
    "\n",
    "# function for you to complete\n",
    "def calc_x_y(x_vec: list, y_vec: list) -> int:\n",
    "    assert type(x_vec) == list, \"Input to function should be a list\"\n",
    "    assert type(y_vec) == list, \"Input to function should be a list\"\n",
    "    \n",
    "    # calculate this value\n",
    "    ans = None\n",
    "    \n",
    "    # YOUR CODE HERE\n",
    "    \n",
    "    return ans"
   ]
  },
  {
   "cell_type": "code",
   "execution_count": null,
   "id": "aa160822",
   "metadata": {
    "deletable": false,
    "editable": false
   },
   "outputs": [],
   "source": [
    "# test cases\n",
    "\n",
    "x_test = [3, 5, 7, 9, 11]\n",
    "y_test = [3, 4, 6, 8, 10]\n",
    "\n",
    "assert calc_x_y(x_test, y_test) == 4, \"Function did not return the correct value\"\n",
    "assert calc_x_y([0]*10, [1]*10) == -10, \"Function did not return the correct value\"\n",
    "\n",
    "print(\"passed!\")"
   ]
  },
  {
   "cell_type": "markdown",
   "id": "0963f0bf",
   "metadata": {},
   "source": [
    "**3).** Please implement the following expression:\n",
    "\n",
    "$$ \\sum_{i=1}^{n} x_i + y_i $$"
   ]
  },
  {
   "cell_type": "code",
   "execution_count": null,
   "id": "317e6810",
   "metadata": {},
   "outputs": [],
   "source": [
    "# sample variable for you to use\n",
    "x = [4, 6, 8, 10, 12]\n",
    "y = [2, 4, 6, 8, 10]\n",
    "\n",
    "# function for you to complete\n",
    "def calc_x_y_add(x_vec: list, y_vec: list) -> int:\n",
    "    assert type(x_vec) == list, \"Input to function should be a list\"\n",
    "    assert type(y_vec) == list, \"Input to function should be a list\"\n",
    "    \n",
    "    # calculate this value\n",
    "    ans = None\n",
    "    \n",
    "    # YOUR CODE HERE\n",
    "    \n",
    "    return ans"
   ]
  },
  {
   "cell_type": "code",
   "execution_count": null,
   "id": "f50eb035",
   "metadata": {
    "deletable": false,
    "editable": false
   },
   "outputs": [],
   "source": [
    "# test cases\n",
    "\n",
    "x_test = [3, 5, 7, 9, 11]\n",
    "y_test = [3, 4, 6, 8, 10]\n",
    "\n",
    "assert calc_x_y(x_test, y_test) == 4, \"Function did not return the correct value\"\n",
    "assert calc_x_y([0]*10, [1]*10) == -10, \"Function did not return the correct value\"\n",
    "\n",
    "print(\"passed!\")"
   ]
  },
  {
   "cell_type": "markdown",
   "id": "f0fe3241",
   "metadata": {},
   "source": [
    "**4).** Please implement the following expression:\n",
    "\n",
    "$$ x^Tx $$\n",
    "\n",
    "**Hint:** If you want to know the meaning of the $^T$, you can read about that here:  https://www.cuemath.com/algebra/transpose-of-a-matrix/\n",
    "\n",
    "**Hint 2:** This operation would normally depend on the particular geometry of $x$, however regular python does not allow you to specify this, so just focus on the numeric value this operation should return, and not so much on possible geometric interpretations of the above operation."
   ]
  },
  {
   "cell_type": "code",
   "execution_count": null,
   "id": "6158473a",
   "metadata": {},
   "outputs": [],
   "source": [
    "# sample variable for you to use\n",
    "x = [4, 6, 8, 10, 12]\n",
    "\n",
    "def x_t_x(x_vec: list) -> int:\n",
    "    assert type(x_vec) == list, \"Input to function should be a list\"\n",
    "    \n",
    "    # calculate this value\n",
    "    xtx = None\n",
    "    \n",
    "    # YOUR CODE HERE\n",
    "    \n",
    "    return xtx"
   ]
  },
  {
   "cell_type": "code",
   "execution_count": null,
   "id": "746b27bf",
   "metadata": {
    "deletable": false,
    "editable": false
   },
   "outputs": [],
   "source": [
    "# test cases\n",
    "\n",
    "x_test = [3, 5, 7, 9, 11]\n",
    "\n",
    "ans = x_t_x(x_test)\n",
    "\n",
    "assert type(ans) in [int, float], \"Function did not return the correct data type\"\n",
    "assert x_t_x(x_test) == 285, \"Function did not return the correct value\"\n",
    "print(\"passed!\")"
   ]
  },
  {
   "cell_type": "markdown",
   "id": "379569ca",
   "metadata": {},
   "source": [
    "**5).** Please implement the following expression:\n",
    "\n",
    "$$ x \\in \\mathbb{R}^{n}, \\,\\,\\,j \\in \\mathbb{R}^{n-1}\\,\\,,\\,\\,\\, j_i =  x_{i}  - x_{i-1}\\,\\,\\, \\forall\\,\\, i = 1, 2,...,n$$\n",
    "\n",
    "**Hint:** The $\\mathbb{R}^{n}$ symbol is often confusing for people to interpret.  Here's an explanation:  https://en.wikipedia.org/wiki/Real_coordinate_space"
   ]
  },
  {
   "cell_type": "code",
   "execution_count": null,
   "id": "efd1df6c",
   "metadata": {},
   "outputs": [],
   "source": [
    "# sample variables for you to use\n",
    "x = [1, 3, 5, 7, 9, 11]\n",
    "\n",
    "def calc_j(x_vec: list) -> list:\n",
    "    assert type(x_vec) == list, \"Input to function needs to be a list\"\n",
    "    \n",
    "    # return this value\n",
    "    j = None\n",
    "    \n",
    "    # YOUR CODE HERE\n",
    "    \n",
    "    return j"
   ]
  },
  {
   "cell_type": "code",
   "execution_count": null,
   "id": "7531d542",
   "metadata": {
    "deletable": false,
    "editable": false
   },
   "outputs": [],
   "source": [
    "# test cases\n",
    "x_test = [4, 3, 2, 7, 9, 11]\n",
    "\n",
    "ans = calc_j(x_test)\n",
    "assert len(ans) == 5, \"function did not return vector with correct length\"\n",
    "assert calc_j(x_test) == [-1, -1, 5, 2, 2], \"function did not return the correct value\"\n",
    "print(\"passed!\")"
   ]
  },
  {
   "cell_type": "markdown",
   "id": "7125eacb",
   "metadata": {},
   "source": [
    "**6).** Please implement the following expression:\n",
    "\n",
    "$$ x \\in \\mathbb{R}^{n}, \\,\\,\\,j \\in \\mathbb{R}^{n-1},\\,\\,\\,\\,\\, \\alpha\\in(0, 1)\\,\\,\\, \\\\j_i =  \\alpha x_{i}  + (1-\\alpha)x_{i-1}\\,\\,\\, \\forall\\,\\, i = 1, 2,...,n$$\n",
    "\n",
    "**Question:** How will changing the value of $\\alpha$ affect the values that appear in $j$?"
   ]
  },
  {
   "cell_type": "code",
   "execution_count": null,
   "id": "4d5805a9",
   "metadata": {},
   "outputs": [],
   "source": [
    "# sample variables for you to use\n",
    "x = [2, 4, 6, 8, 11, 13, 21, 4]\n",
    "\n",
    "def calc_j_alpha(x_vec: list, alpha: float) -> list:\n",
    "    assert type(x_vec) == list, \"input should be a list\"\n",
    "    \n",
    "    # Calculate this value\n",
    "    j = None\n",
    "    \n",
    "    # YOUR CODE HERE\n",
    "    \n",
    "    return j"
   ]
  },
  {
   "cell_type": "code",
   "execution_count": null,
   "id": "48d5fc4d",
   "metadata": {
    "deletable": false,
    "editable": false
   },
   "outputs": [],
   "source": [
    "# test cases\n",
    "x_test = [4, 3, 11, 8, 5, 4, 5, 7]\n",
    "alpha  = 0.5\n",
    "\n",
    "ans    = calc_j_alpha(x_test, alpha)\n",
    "assert type(ans) == list, \"Function should return a list\"\n",
    "assert len(ans) == 7, \"Function did not return value with the correct dimensions\"\n",
    "assert ans == [3.5, 7.0, 9.5, 6.5, 4.5, 4.5, 6.0], \"Function did not return the correct value\""
   ]
  },
  {
   "cell_type": "markdown",
   "id": "10332c96",
   "metadata": {},
   "source": [
    "**7).** Please implement the following expression:\n",
    "$$  x \\in \\mathbb{R}^{n}, \\,\\,\\,y \\in \\mathbb{R}^{n},\\,\\,\\, d = \\sqrt{\\sum_{i=1}^n (x_i - y_i)^2} $$\n",
    "\n",
    "**Question:** What does the value $d$ represent above?  (It is a very common metric that's used all the time).\n",
    "\n",
    "**Question 2:** What if we modified the formula above to look like the following:\n",
    "\n",
    "$$ d_p = (\\sum_{i=1}^n (x_i - y_i)^p)^{1/p} $$\n",
    "\n",
    "What would changing the value of $p$ have on the formula?  What do you refer to the formula when it's referred to in this way?"
   ]
  },
  {
   "cell_type": "code",
   "execution_count": null,
   "id": "55da4513",
   "metadata": {},
   "outputs": [],
   "source": [
    "# sample variables for you to use\n",
    "x = [1, 2, 3, 4, 5]\n",
    "y = [2, 3, 5, 4, 3]\n",
    "\n",
    "def calc_d(x_vec: list, y_vec: list) -> int:\n",
    "    assert type(x_vec) == list and type(y_vec) == list, \"Inputs need to be lists\"\n",
    "    assert len(x_vec) == len(y_vec), \"inputs need to be the same length\"\n",
    "    \n",
    "    # Calculate this value\n",
    "    d = None\n",
    "    \n",
    "    # YOUR CODE HERE\n",
    "    \n",
    "    return d"
   ]
  },
  {
   "cell_type": "code",
   "execution_count": null,
   "id": "b7b6d542",
   "metadata": {
    "deletable": false,
    "editable": false
   },
   "outputs": [],
   "source": [
    "# test cases\n",
    "x_test = [4, 2, 1, 8, 7]\n",
    "y_test = [2, -3, 5, 7, 9]\n",
    "\n",
    "ans = calc_d(x_test, y_test)\n",
    "assert type(ans) == float, \"Function should return a number as output\"\n",
    "assert round(ans, 2) == 7.07, \"Function did not return the correct value\"\n",
    "\n",
    "print(\"Passed!\")"
   ]
  },
  {
   "cell_type": "markdown",
   "id": "a7a116ff",
   "metadata": {},
   "source": [
    "**8).** Please implement the following expression:\n",
    "\n",
    "$$X, Y \\in \\mathbb{R}^{m\\,x\\,n}\\,\\,\\,\\\\ Y_{i, j} = X_{i, j} - 1 \\\\\\forall \\, i = 1, 2, ...., m,\\,\\,\\,\\forall \\, j = 1, 2, ..., n$$"
   ]
  },
  {
   "cell_type": "code",
   "execution_count": null,
   "id": "02779290",
   "metadata": {},
   "outputs": [],
   "source": [
    "# sample variables for you to use\n",
    "X = [[2, 6, 3, 9, 1], \n",
    "     [1, 5, 7, 4, 0], \n",
    "     [7, 3, 8, 2, 5], \n",
    "     [3, 5, 9, 2, 8]]\n",
    "\n",
    "def calc_y_ij(x_mat: list) -> list:\n",
    "    assert type(x) == list, \"Input needs to be a list\"\n",
    "    \n",
    "    # Calculate this value\n",
    "    Y = None\n",
    "    \n",
    "    # YOUR CODE HERE\n",
    "    \n",
    "    return Y"
   ]
  },
  {
   "cell_type": "code",
   "execution_count": null,
   "id": "32307f6e",
   "metadata": {
    "deletable": false,
    "editable": false
   },
   "outputs": [],
   "source": [
    "# test cases\n",
    "X_test = [[8, 1, 9, 4, 7], \n",
    "          [8, 4, 6, 9, 0], \n",
    "          [8, 6, 7, 1, 9], \n",
    "          [6, 9, 3, 4, 1]]\n",
    "\n",
    "ans    = calc_y_ij(X_test)\n",
    "assert len(ans) == 4, \"Answer did not have the correct dimensions\"\n",
    "assert sum(1 for row in ans for i in row) == 20, \"Answer did not have the correct dimensions\"\n",
    "assert sum(sum(row) for row in ans) == 90, \"Answer did not have the correct values\"\n",
    "print(\"passed!\")"
   ]
  },
  {
   "cell_type": "markdown",
   "id": "62d70161",
   "metadata": {},
   "source": [
    "**9).** Please implement the following expression:\n",
    "\n",
    "$$ A \\in \\mathbb{R^{m\\,x\\,n}},\\, x\\in\\mathbb{R}^n,\\, b\\in\\mathbb{R}^m $$\n",
    "$$ b = \\sum_{i=1}^m\\sum_{j=1}^n A_{i, j}*x_{j} $$"
   ]
  },
  {
   "cell_type": "code",
   "execution_count": 1,
   "id": "8077f8c2",
   "metadata": {},
   "outputs": [],
   "source": [
    "import numpy as np"
   ]
  },
  {
   "cell_type": "code",
   "execution_count": 5,
   "id": "20619033",
   "metadata": {},
   "outputs": [],
   "source": [
    "A = np.random.normal(size = (10, 5))\n",
    "x = np.random.normal(size = 5)"
   ]
  },
  {
   "cell_type": "code",
   "execution_count": 6,
   "id": "4e3caad6",
   "metadata": {},
   "outputs": [
    {
     "data": {
      "text/plain": [
       "array([[-0.48371158, -0.748006  , -0.39440267, -2.08619296,  1.23668749],\n",
       "       [ 0.31133866,  1.00277322, -0.73397584, -1.05207761,  0.68917856],\n",
       "       [ 1.21517792,  1.11563411,  0.72096404, -0.65595135, -1.56800354],\n",
       "       [ 0.38338748,  0.94869908, -1.11779235,  1.59239138,  0.77818087],\n",
       "       [-0.37033995,  0.2812268 ,  0.29529717,  0.4138392 , -0.38869025],\n",
       "       [-0.58271034,  1.20595011, -0.81355555, -0.83822453, -1.19709544],\n",
       "       [ 0.79995129,  1.61836255,  0.07264136, -0.32243754,  0.08979003],\n",
       "       [-0.02254941,  0.15408156,  0.44317953,  0.3280503 ,  1.26491484],\n",
       "       [-1.23325199,  0.25343771,  0.83153194, -0.5860247 ,  1.23115079],\n",
       "       [ 0.65327381,  0.08330851,  1.03455267, -0.43773826,  1.44577787]])"
      ]
     },
     "execution_count": 6,
     "metadata": {},
     "output_type": "execute_result"
    }
   ],
   "source": [
    "A"
   ]
  },
  {
   "cell_type": "code",
   "execution_count": 12,
   "id": "7c9f5287",
   "metadata": {},
   "outputs": [
    {
     "data": {
      "text/plain": [
       "-1.3323063414202962"
      ]
     },
     "execution_count": 12,
     "metadata": {},
     "output_type": "execute_result"
    }
   ],
   "source": [
    "sum(A[0]*x)"
   ]
  },
  {
   "cell_type": "code",
   "execution_count": 8,
   "id": "3440290d",
   "metadata": {},
   "outputs": [
    {
     "data": {
      "text/plain": [
       "array([-0.26409361,  1.02944047, -0.91282802, -0.25824372, -1.28471572])"
      ]
     },
     "execution_count": 8,
     "metadata": {},
     "output_type": "execute_result"
    }
   ],
   "source": [
    "x"
   ]
  },
  {
   "cell_type": "code",
   "execution_count": 9,
   "id": "68c8e201",
   "metadata": {},
   "outputs": [
    {
     "data": {
      "text/plain": [
       "array([-1.33230634,  1.0063604 ,  2.35327611,  0.48476496,  0.51024024,\n",
       "        3.89237377,  1.35634962, -1.94974665, -1.60279421, -2.77550333])"
      ]
     },
     "execution_count": 9,
     "metadata": {},
     "output_type": "execute_result"
    }
   ],
   "source": [
    "A @ x"
   ]
  },
  {
   "cell_type": "code",
   "execution_count": null,
   "id": "890c4bd2",
   "metadata": {},
   "outputs": [],
   "source": [
    "# sample variables for you to use\n",
    "A = [[1, 2], \n",
    "     [3, 4],\n",
    "     [5, 6]]\n",
    "\n",
    "x = [3, 4]\n",
    "\n",
    "def calc_a_x(a_mat: list, x_vec: list) -> list:\n",
    "    assert type(A) == list, \"A matrix needs to be a list\"\n",
    "    assert type(x) == list, \"x vector needs to be a list\"\n",
    "    \n",
    "    # Calculate this value\n",
    "    b = None\n",
    "    \n",
    "    # YOUR CODE HERE\n",
    "    \n",
    "    return b"
   ]
  },
  {
   "cell_type": "code",
   "execution_count": null,
   "id": "1fa386de",
   "metadata": {
    "deletable": false,
    "editable": false
   },
   "outputs": [],
   "source": [
    "# test cases\n",
    "A_test = [[2, 3], \n",
    "          [1, 5],\n",
    "          [4, 2]]\n",
    "\n",
    "x_test =  [2, 6]\n",
    "\n",
    "ans = calc_a_x(A_test, x_test)\n",
    "assert len(ans) == 3, \"Answer did return the correct dimensions\"\n",
    "assert sum(ans) == 74, \"Answer did not return the correct dimensions\"\n",
    "print(\"passed!\")"
   ]
  },
  {
   "cell_type": "markdown",
   "id": "fe2ac792",
   "metadata": {},
   "source": [
    "**10).** Please implement the following expression:\n",
    "\n",
    "$$ A \\in \\mathbb{R^{m\\,x\\,n}},\\, B\\in \\mathbb{R^{n\\,x\\,k}},\\, C\\in\\mathbb{R^{m\\, x\\, k}}$$\n",
    "$$ C_{i, j} = \\sum_{k=1}^n A_{i, k}B_{k, j}$$\n",
    "\n",
    "**Hint:** This expression might look confusing to you.  Don't panic, that's normal.  If you want a slightly formal defintion of what this expression means, you can find one here:  https://math.stackexchange.com/questions/2063241/matrix-multiplication-notation\n",
    "\n",
    "If you want to visualize what this expression does, here's a useful resource: http://matrixmultiplication.xyz\n",
    "\n",
    "You are basically implementing exactly this, but in python code.\n",
    "\n",
    "If you want a video walk through of how these types of operations work, there is no one better than Gilbert Strang:  https://www.youtube.com/watch?v=FX4C-JpTFgY\n",
    "\n",
    "**Hint 2:** This sort of operation is a little tricker in regular python than it will be with other tools like numpy.  If you have a list of lists like we have here, you can grab a row from it easily with an index, but there is not a direct way to grab a column from it.  You might have to create a separate helper function to grab a column from your (pseudo) matrix to aid in this calculation."
   ]
  },
  {
   "cell_type": "code",
   "execution_count": null,
   "id": "2066b927",
   "metadata": {},
   "outputs": [],
   "source": [
    "# sample variables for you to use\n",
    "A = [[6, 7, 4], \n",
    "     [7, 8, 9], \n",
    "     [5, 9, 8], \n",
    "     [1, 3, 5], \n",
    "     [1, 4, 7]]\n",
    "\n",
    "B = [[8, 9],\n",
    "     [6, 8],\n",
    "     [4, 2]]\n",
    "\n",
    "def calc_A_B(a_mat: list, b_mat: list) -> list:\n",
    "    assert type(A) == list, \"A input needs to be a list\"\n",
    "    assert type(B) == list, \"B input needs to be a list\"\n",
    "    \n",
    "    # Calculate this value\n",
    "    C = None\n",
    "    \n",
    "    # YOUR CODE HERE\n",
    "    return C"
   ]
  },
  {
   "cell_type": "code",
   "execution_count": null,
   "id": "19ed70f4",
   "metadata": {
    "deletable": false,
    "editable": false
   },
   "outputs": [],
   "source": [
    "# test cases\n",
    "\n",
    "A_test = [[1, 2], \n",
    "          [3, 4],\n",
    "          [4, 2],\n",
    "          [5, 1]]\n",
    "\n",
    "B_test = [[4, 3, 1],\n",
    "          [3, 1, 5]]\n",
    "\n",
    "ans = calc_A_B(A_test, B_test)\n",
    "assert len(ans) == 4, \"Answer did not have correct dimensions\"\n",
    "assert all(len(row) == 3 for row in ans), \"Answer did not have the correct dimensions\"\n",
    "assert sum(sum(row) for row in ans) == 185, \"Answer did not have the correct value\"\n",
    "print(\"passed!\")"
   ]
  },
  {
   "cell_type": "markdown",
   "id": "67f49cf5",
   "metadata": {},
   "source": [
    "**11).** Implement the following expression:\n",
    "\n",
    "$$|| x ||_{2} $$\n",
    "\n",
    "**Hint:** This sort of notation might look a little strange, but it comes up a lot in ML so you ought to get used to it.  Here's a good article describing what this expression is referring to:  https://towardsdatascience.com/a-quick-guide-to-understanding-vectors-norms-84eb802f81f9"
   ]
  },
  {
   "cell_type": "code",
   "execution_count": null,
   "id": "bf185cd4",
   "metadata": {},
   "outputs": [],
   "source": [
    "# sample variable for you to use\n",
    "x = [2, 4, 6, 8, 11]\n",
    "\n",
    "def calc_l2_norm(x_vec: list) -> int:\n",
    "    assert type(x_vec) == list, \"input needs to be a list\"\n",
    "    \n",
    "    # Calculate this value\n",
    "    norm_val = None\n",
    "    \n",
    "    # YOUR CODE HERE\n",
    "    \n",
    "    return norm_val"
   ]
  },
  {
   "cell_type": "code",
   "execution_count": null,
   "id": "11b7ae00",
   "metadata": {
    "deletable": false,
    "editable": false
   },
   "outputs": [],
   "source": [
    "# test cases\n",
    "x_test = [3, 5, 1, 2]\n",
    "\n",
    "ans = calc_l2_norm(x_test)\n",
    "assert type(ans) == float, \"Function did not return the correct data type\"\n",
    "assert round(ans, 2) == 6.24, \"Answer did not return the correct value\"\n",
    "print(\"passed!\")"
   ]
  },
  {
   "cell_type": "markdown",
   "id": "dbedb497",
   "metadata": {},
   "source": [
    "**12).** Implement the following expression:\n",
    "\n",
    "$$ || x - y ||_1 $$"
   ]
  },
  {
   "cell_type": "code",
   "execution_count": null,
   "id": "38b0ce67",
   "metadata": {},
   "outputs": [],
   "source": [
    "# sample variables for you to use\n",
    "x = [2, 3, 4, 5]\n",
    "y = [4, 1, 3, 0]\n",
    "\n",
    "def calc_l1_norm(x_vec: list, y_vec: list) -> list:\n",
    "    assert type(x_vec) == list, \"x_vec needs to be a list\"\n",
    "    assert type(y_vec) == list, \"y_vec needs to be a list\"\n",
    "    \n",
    "    # Calculate this value\n",
    "    norm_val = None\n",
    "    \n",
    "    # YOUR CODE HERE\n",
    "    \n",
    "    return norm_val"
   ]
  },
  {
   "cell_type": "code",
   "execution_count": null,
   "id": "c3eb217a",
   "metadata": {
    "deletable": false,
    "editable": false
   },
   "outputs": [],
   "source": [
    "# test cases\n",
    "x_test = [3, 1, 4, 0]\n",
    "y_test = [2, 3, 1, 2]\n",
    "\n",
    "ans = calc_l1_norm(x_test, y_test)\n",
    "assert type(ans) == int, \"Function should return a number\"\n",
    "assert ans == 8\n",
    "print(\"passed!\")"
   ]
  },
  {
   "cell_type": "markdown",
   "id": "0d0ce138",
   "metadata": {},
   "source": [
    "**13).** Implement the following expression:\n",
    "\n",
    "$$ || x - y ||_2^2 $$"
   ]
  },
  {
   "cell_type": "code",
   "execution_count": null,
   "id": "e95566f2",
   "metadata": {},
   "outputs": [],
   "source": [
    "# sample variables for you to use\n",
    "x = [2, 3, 4, 5]\n",
    "y = [4, 1, 3, 0]\n",
    "\n",
    "def calc_norm_val(x_vec: list, y_vec: list) -> int:\n",
    "    assert type(x_vec) == list, \"x_vec needs to be a list\"\n",
    "    assert type(y_vec) == list, \"y_vec needs to be a list\"\n",
    "    \n",
    "    # Calculate this value\n",
    "    norm_val = None\n",
    "    \n",
    "    # YOUR CODE HERE\n",
    "    \n",
    "    return norm_val"
   ]
  },
  {
   "cell_type": "code",
   "execution_count": null,
   "id": "f18ce943",
   "metadata": {
    "deletable": false,
    "editable": false
   },
   "outputs": [],
   "source": [
    "# test cases\n",
    "x_test = [4, 6, 3, 1]\n",
    "y_test = [2, 5, 1, 8]\n",
    "\n",
    "ans    = calc_norm_val(x_test, y_test)\n",
    "assert ans == 58, \"Function did not return the correct value\"\n",
    "print(\"passed!\")"
   ]
  },
  {
   "cell_type": "markdown",
   "id": "719ee299",
   "metadata": {},
   "source": [
    "**14).** Implement the following expression:\n",
    "\n",
    "$$ var = \\frac{1}{n-1}\\sum_{i=1}^n (x_i - \\bar{x})^2 $$\n",
    "\n",
    "The variable name kind of gives it away, but what common term does this expression refer to?"
   ]
  },
  {
   "cell_type": "code",
   "execution_count": null,
   "id": "4f7207ad",
   "metadata": {},
   "outputs": [],
   "source": [
    "# sample variable for you to use\n",
    "x = [4, 3, 1, 6, 8]\n",
    "\n",
    "def calc_var(x_vec: list) -> list:\n",
    "    assert type(x_vec) == list, \"x_vec needs to be a list\"\n",
    "\n",
    "    # Calculate this value\n",
    "    var = None\n",
    "    \n",
    "    # YOUR CODE HERE\n",
    "    \n",
    "    return var"
   ]
  },
  {
   "cell_type": "code",
   "execution_count": null,
   "id": "b13ff1d8",
   "metadata": {
    "deletable": false,
    "editable": false
   },
   "outputs": [],
   "source": [
    "# test cases\n",
    "x_test = [11, 12, -2, 6]\n",
    "\n",
    "ans = calc_var(x_test)\n",
    "assert type(ans) == float, \"Function did not return the correct data type\"\n",
    "assert round(ans, 2) == 40.92, \"Function did not return the correct value\"\n",
    "print(\"passed!\")"
   ]
  },
  {
   "cell_type": "markdown",
   "id": "f1ecdb58",
   "metadata": {},
   "source": [
    "**15).** Implement the following expression:\n",
    "\n",
    "$$ std = \\sqrt{\\frac{1}{n-1}\\sum_{i=1}^n (x_i - \\bar{x})^2} $$\n",
    "\n",
    "This is another metric you're probably familiar with, so make sure to find out for yourself what it refers to."
   ]
  },
  {
   "cell_type": "code",
   "execution_count": null,
   "id": "2c38d48f",
   "metadata": {},
   "outputs": [],
   "source": [
    "# sample variable for you to use\n",
    "x = [4, 3, 1, 6, 8]\n",
    "\n",
    "def calc_std(x_vec: list) -> list:\n",
    "    assert type(x_vec) == list, \"x_vec needs to be a list\"\n",
    "\n",
    "    # Calculate this value\n",
    "    std = None\n",
    "    \n",
    "    # YOUR CODE HERE\n",
    "    \n",
    "    return std"
   ]
  },
  {
   "cell_type": "code",
   "execution_count": null,
   "id": "933fac45",
   "metadata": {
    "deletable": false,
    "editable": false
   },
   "outputs": [],
   "source": [
    "# test cases\n",
    "x_test = [11, 12, -2, 6]\n",
    "\n",
    "ans = calc_std(x_test)\n",
    "assert type(ans) == float, \"Function did not return the correct data type\"\n",
    "assert round(ans, 2) == 6.4, \"Function did not return the correct value\"\n",
    "print(\"passed!\")"
   ]
  },
  {
   "cell_type": "markdown",
   "id": "fa9536e3",
   "metadata": {},
   "source": [
    "**16).** Implement the following expression:\n",
    "\n",
    "$$ cov = \\frac{1}{n-1}\\sum_{i=1}^n(x_i - \\bar{x})(y_i - \\bar{y}) $$"
   ]
  },
  {
   "cell_type": "code",
   "execution_count": null,
   "id": "c07c5f0e",
   "metadata": {},
   "outputs": [],
   "source": [
    "# sample variables for you to use\n",
    "x = [4, 3, 1, 6, 8]\n",
    "y = [2, 6, 7, 3, 11]\n",
    "\n",
    "def calc_cov(x_vec: list, y_vec: list) -> int:\n",
    "    assert type(x_vec) == list, \"x_vec needs to be a list\"\n",
    "    assert type(y_vec) == list, \"y_vec needs to be a list\"\n",
    "    \n",
    "    # calculate this value\n",
    "    cov = None\n",
    "    \n",
    "    # YOUR CODE HERE\n",
    "    \n",
    "    return cov"
   ]
  },
  {
   "cell_type": "code",
   "execution_count": null,
   "id": "11f209dd",
   "metadata": {
    "deletable": false,
    "editable": false
   },
   "outputs": [],
   "source": [
    "# test cases\n",
    "x_test = [4, 6, 3, 1]\n",
    "y_test = [2, 5, 1, 8]\n",
    "\n",
    "ans = calc_cov(x_test, y_test)\n",
    "assert type(ans) == float, \"Function did not return the correct data type\"\n",
    "assert round(ans, 2) == -2.33\n",
    "print(\"passed!\")"
   ]
  },
  {
   "cell_type": "markdown",
   "id": "66dbdd01",
   "metadata": {},
   "source": [
    "**17).** Implement the following expression:\n",
    "\n",
    "$$ corr = \\frac{\\sum_{i=1}^n(x_i - \\bar{x})(y_i - \\bar{y})}{\\sqrt{\\sum_{i=1}^n(x_i - \\bar{x})^2}\\sqrt{\\sum_{i=1}^n(y_i - \\bar{y})^2}} $$\n",
    "\n",
    "This expression can also be re-written as:\n",
    "\n",
    "$$ corr = \\frac{cov(x, y)}{\\sigma(x)*\\sigma(y)} $$\n",
    "\n",
    "Hopefully you can guess what this expression is referring to, but again, try and look it up if you are not sure.\n",
    "\n",
    "**Hint:** You should be able to re-use previous functions to calculate this value."
   ]
  },
  {
   "cell_type": "code",
   "execution_count": null,
   "id": "880418b1",
   "metadata": {},
   "outputs": [],
   "source": [
    "# sample variables for you to use\n",
    "x = [4, 3, 1, 6, 8]\n",
    "y = [2, 6, 7, 3, 11]\n",
    "\n",
    "def calc_corr(x_vec: list, y_vec: list) -> float:\n",
    "    assert type(x_vec) == list, \"x_vec needs to be a list\"\n",
    "    assert type(y_vec) == list, \"y_vec needs to be a list\"\n",
    "    \n",
    "    # calculate this value\n",
    "    corr = None\n",
    "    \n",
    "    # YOUR CODE HERE\n",
    "    \n",
    "    return corr"
   ]
  },
  {
   "cell_type": "code",
   "execution_count": null,
   "id": "824deabf",
   "metadata": {
    "deletable": false,
    "editable": false
   },
   "outputs": [],
   "source": [
    "# test cases\n",
    "x_test = [4, 6, 3, 1]\n",
    "y_test = [2, 5, 1, 8]\n",
    "\n",
    "ans = calc_corr(x_test, y_test)\n",
    "assert type(ans) == float, \"Function did not return the correct data type\"\n",
    "assert round(ans, 2) == -0.35, \"Function did not return the correct value\"\n",
    "print(\"passed!\")"
   ]
  },
  {
   "cell_type": "markdown",
   "id": "4daee687",
   "metadata": {},
   "source": [
    "**18).** Calculate the distance matrix!\n",
    "\n",
    "The final challenge for this notebook will be to calculate an $l2$ distance matrix from your data.  This will incorporate the metric that you calculated for question 7 to arrive at the answer.  \n",
    "\n",
    "Quantifying how each data point is related to each other one is a common data transformation for ML models, so going through this type of exercise now is a nice prep for future material.  \n",
    "\n",
    "Since this is the math-to-code notebook we'll begin by trying to express the distance matrix formally:\n",
    "\n",
    "$$ A \\in\\mathbb{R^{m\\,x\\,n}}, D\\in\\mathbb{R^{m\\,x\\,m}} $$\n",
    "$$ D_{i, j} = dist(A_{i*}, A_{j*}) $$\n",
    "\n",
    "In plain english, you're going to create a matrix that will display the distance between each row in your data with every other row inside of it.  So if your original data was 50x10, your distance matrix will be 50x50.  \n",
    "\n",
    "And the point at index position (1, 3) in D will denote the distance metric between the row at position 1 and the row at position 3 in A."
   ]
  },
  {
   "cell_type": "code",
   "execution_count": null,
   "id": "5acba136",
   "metadata": {},
   "outputs": [],
   "source": [
    "# sample variable for you to use\n",
    "A = [[0, 9, 8, 5, 3],\n",
    "     [8, 3, 1, 5, 0],\n",
    "     [5, 3, 2, 6, 1],\n",
    "     [6, 2, 4, 1, 3],\n",
    "     [7, 1, 3, 9, 8],\n",
    "     [7, 6, 3, 5, 8]]\n",
    "\n",
    "def calc_dist_mat(a_mat: list) -> list:\n",
    "    assert type(a_mat) == list, \"a_mat needs to be a list\"\n",
    "    \n",
    "    # Calculate this value\n",
    "    dist_mat = None\n",
    "    \n",
    "    # YOUR CODE HERE\n",
    "    \n",
    "    return dist_mat"
   ]
  },
  {
   "cell_type": "code",
   "execution_count": null,
   "id": "b57ca5a9",
   "metadata": {
    "deletable": false,
    "editable": false
   },
   "outputs": [],
   "source": [
    "# test cases\n",
    "A_test = [[13, 12], \n",
    "          [4, -2]]\n",
    "\n",
    "ans = calc_dist_mat(A_test)\n",
    "assert round(sum(sum(row) for row in ans), 2) == 33.29, \"Function did not return the correct value\"\n",
    "assert len(ans) == 2, \"Function did not return the correct dimensions\"\n",
    "print(\"passed!\")"
   ]
  }
 ],
 "metadata": {
  "kernelspec": {
   "display_name": "Python 3 (ipykernel)",
   "language": "python",
   "name": "python3"
  },
  "language_info": {
   "codemirror_mode": {
    "name": "ipython",
    "version": 3
   },
   "file_extension": ".py",
   "mimetype": "text/x-python",
   "name": "python",
   "nbconvert_exporter": "python",
   "pygments_lexer": "ipython3",
   "version": "3.9.7"
  }
 },
 "nbformat": 4,
 "nbformat_minor": 5
}
